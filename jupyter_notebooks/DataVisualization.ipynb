{
    "metadata": {
      "kernelspec": {
        "name": "python",
        "display_name": "Python (Pyodide)",
        "language": "python"
      },
      "language_info": {
        "codemirror_mode": {
          "name": "python",
          "version": 3
        },
        "file_extension": ".py",
        "mimetype": "text/x-python",
        "name": "python",
        "nbconvert_exporter": "python",
        "pygments_lexer": "ipython3",
        "version": "3.8"
      },
      "vscode": {
        "interpreter": {
          "hash": "8b8334dab9339717f727a1deaf837b322d7a41c20d15cc86be99a8e69ceec8ce"
        }
      }
    },
    "nbformat_minor": 4,
    "nbformat": 4,
    "cells": [
      {
        "cell_type": "raw",
        "source": "# Cherry Leaf Disease Detection - Data Visualization Notebook",
        "metadata": {},
        "attachments": {}
      },
      {
        "cell_type": "markdown",
        "source": "## Objectives",
        "metadata": {},
        "attachments": {}
      },
      {
        "cell_type": "markdown",
        "source": "- Satisfy business requirement #1:\n  - The client requires a visual analysis that differentiates healthy cherry leaves from those affected by powdery mildew.",
        "metadata": {},
        "attachments": {}
      },
      {
        "cell_type": "markdown",
        "source": "## Inputs",
        "metadata": {},
        "attachments": {}
      },
      {
        "cell_type": "markdown",
        "source": "Images are sourced from folders for training, validation, and testing within the dataset structure:\n```bash\n. \n├── inputs \n│   └──cherry-leaves                                    \n│       ├── test\n│       │   ├── healthy\n│       │   └── powdery_mildew                   \n│       ├── train\n│       │   ├── healthy\n│       │   └── powdery_mildew          \n│       └── validation\n│           ├── healthy\n│           └── powdery_mildew                 \n└── ...\n```",
        "metadata": {},
        "attachments": {}
      },
      {
        "cell_type": "markdown",
        "source": "## Outputs",
        "metadata": {},
        "attachments": {}
      },
      {
        "cell_type": "markdown",
        "source": "- Compute the average image size in the training set. Consistent image dimensions are essential for model training and influence CNN architecture.\n- Save image dimension data as a pickle file.\n- Visualize and save the mean and variance of images for each class.\n- Compare healthy vs. diseased leaf images.\n- Generate code and visuals to support Business Requirement #1 and provide material for a dashboard montage.",
        "metadata": {},
        "attachments": {}
      },
      {
        "cell_type": "markdown",
        "source": "## Comments | Insights | Conclusions\n\nThese steps help us understand and organize the data for CNN input, aligning with the client’s visualization requirements (Business Requirement #1).",
        "metadata": {},
        "attachments": {}
      }
    ]
  }
  