{
    "nbformat_minor": 4,
    "nbformat": 4,
    "cells": [
        {
            "cell_type": "code",
            "execution_count": null,
            "metadata": {},
            "outputs": [],
            "source": [
             "# Modelling and Evaluation"
            ]
           },
           {
            "cell_type": "markdown",
            "metadata": {},
            "source": [
             "## Objectives"
            ]
           },
           {
            "cell_type": "markdown",
            "metadata": {},
            "source": [
             "- Fulfill Business Requirement 2:\n",
             "  - Develop a model to classify a cherry leaf as healthy or affected by powdery mildew."
            ]
           },
           {
            "cell_type": "markdown",
            "metadata": {},
            "source": [
             "## Inputs"
            ]
           },
           {
            "cell_type": "markdown",
            "metadata": {},
            "source": [
             "- Image shape embeddings file (pickle format)\n",
             "- Directory structure:\n",
             "  ```bash\n",
             "  ├── inputs \n",
             "  │       └── cherry-leaves\n",
             "  │           ├── test\n",
             "  │           │   ├── healthy\n",
             "  │           │   └── powdery_mildew\n",
             "  │           ├── train\n",
             "  │           │   ├── healthy\n",
             "  │           │   └── powdery_mildew\n",
             "  │           └── validation\n",
             "  │               ├── healthy\n",
             "  │               └── powdery_mildew\n",
             "  ```"
            ]
           }
    ],
    "metadata": {
      "kernelspec": {
        "name": "python",
        "display_name": "Python (Pyodide)",
        "language": "python"
      },
      "language_info": {
        "codemirror_mode": {
          "name": "python",
          "version": 3
        },
        "file_extension": ".py",
        "mimetype": "text/x-python",
        "name": "python",
        "nbconvert_exporter": "python",
        "pygments_lexer": "ipython3",
        "version": "3.8"
      },
      "vscode": {
        "interpreter": {
          "hash": "8b8334dab9339717f727a1deaf837b322d7a41c20d15cc86be99a8e69ceec8ce"
        }
      }
    }
  }
  