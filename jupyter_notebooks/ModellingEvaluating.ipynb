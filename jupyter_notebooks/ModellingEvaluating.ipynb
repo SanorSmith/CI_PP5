{
 "cells": [
  {
   "cell_type": "code",
   "execution_count": null,
   "metadata": {},
   "outputs": [],
   "source": [
    "# Modelling and Evaluation"
   ]
  },
  {
   "cell_type": "markdown",
   "metadata": {},
   "source": [
    "## Objectives"
   ]
  },
  {
   "cell_type": "markdown",
   "metadata": {},
   "source": [
    "- Fulfill Business Requirement 2:\n",
    "  - Develop a model to classify a cherry leaf as healthy or affected by powdery mildew."
   ]
  },
  {
   "cell_type": "markdown",
   "metadata": {},
   "source": [
    "## Inputs"
   ]
  },
  {
   "cell_type": "markdown",
   "metadata": {},
   "source": [
    "- Image shape embeddings file (pickle format)\n",
    "- Directory structure:\n",
    "  ```bash\n",
    "  ├── inputs \n",
    "  │       └── cherry-leaves\n",
    "  │           ├── test\n",
    "  │           │   ├── healthy\n",
    "  │           │   └── powdery_mildew\n",
    "  │           ├── train\n",
    "  │           │   ├── healthy\n",
    "  │           │   └── powdery_mildew\n",
    "  │           └── validation\n",
    "  │               ├── healthy\n",
    "  │               └── powdery_mildew\n",
    "  ```"
   ]
  },
  {
   "cell_type": "markdown",
   "metadata": {},
   "source": [
    "## Outputs"
   ]
  },
  {
   "cell_type": "markdown",
   "metadata": {},
   "source": [
    "- Data distribution visualizations for training, validation, and testing:\n",
    "  - Bar chart for label distribution\n",
    "  - Pie chart for dataset split\n",
    "- Image augmentation samples per dataset split.\n",
    "- Class indices for labeling predictions.\n",
    "- Model summary and training configurations.\n",
    "- Model training results and saved model file.\n",
    "- Learning curves for model performance:\n",
    "  - Model A - separate plots for accuracy and loss\n",
    "  - Model B - complete training history visualization\n",
    "  - Model C - comprehensive training history using Plotly\n",
    "- Model evaluation metrics:\n",
    "  - Accuracy score\n",
    "  - ROC curve\n",
    "  - Classification report for each model variation\n",
    "- Confusion Matrix display.\n",
    "- Save evaluation as a pickle file.\n",
    "- Prediction testing on a random image."
   ]
  },
  {
   "cell_type": "markdown",
   "metadata": {},
   "source": [
    "## Comments | Insights | Conclusions"
   ]
  },
  {
   "cell_type": "markdown",
   "metadata": {},
   "source": [
    "- Multiple visualizations are provided to support in-depth data analysis.\n",
    "- The CNN model architecture aims to achieve high accuracy with minimal overfitting.\n",
    "- Documentation on hyperparameter tuning is available in README.md and a detailed PDF report."
   ]
  },
  {
   "cell_type": "markdown",
   "metadata": {},
   "source": [
    "## Import Libraries"
   ]
  },
  {
   "cell_type": "code",
   "execution_count": null,
   "metadata": {},
   "outputs": [],
   "source": [
    "import os\n",
    "import pandas as pd\n",
    "import numpy as np\n",
    "import matplotlib.pyplot as plt\n",
    "import seaborn as sns\n",
    "import tensorflow as tf\n",
    "from matplotlib.image import imread"
   ]
  },
  {
   "cell_type": "markdown",
   "metadata": {},
   "source": [
    "---"
   ]
  },
  {
   "cell_type": "markdown",
   "metadata": {},
   "source": [
    "## Set Working Directory"
   ]
  },
  {
   "cell_type": "code",
   "execution_count": null,
   "metadata": {},
   "outputs": [],
   "source": [
    "cwd = os.getcwd()"
   ]
  },
  {
   "cell_type": "code",
   "execution_count": null,
   "metadata": {},
   "outputs": [],
   "source": [
    "os.chdir('/workspace/CI_PP5')\n",
    "print(\"Working directory set to /workspace/CI_PP5\")"
   ]
  },
  {
   "cell_type": "code",
   "execution_count": null,
   "metadata": {},
   "outputs": [],
   "source": [
    "work_dir = os.getcwd()\n",
    "work_dir"
   ]
  },
  {
   "cell_type": "markdown",
   "metadata": {},
   "source": [
    "## Set Input Directories"
   ]
  },
  {
   "cell_type": "markdown",
   "metadata": {},
   "source": [
    "Define paths for train, validation, and test directories."
   ]
  },
  {
   "cell_type": "code",
   "execution_count": null,
   "metadata": {},
   "outputs": [],
   "source": [
    "my_data_dir = 'inputs/cherry-leaves'\n",
    "train_path = my_data_dir + '/train'\n",
    "val_path = my_data_dir + '/validation'\n",
    "test_path = my_data_dir + '/test'"
   ]
  },
  {
    "cell_type": "markdown",
    "metadata": {},
    "source": [
     "## Set Output Directory"
    ]
   },
   {
    "cell_type": "code",
    "execution_count": null,
    "metadata": {},
    "outputs": [],
    "source": [
     "version = 'v1'\n",
     "file_path = f'outputs/{version}'\n",
     "\n",
     "if 'outputs' in os.listdir(work_dir) and version in os.listdir(work_dir + '/outputs'):\n",
     "    print('Older version exists; consider creating a new version.')\n",
     "else:\n",
     "    os.makedirs(name=file_path)\n",
     "    print(f\"Output directory created: {file_path}\")"
    ]
   },
   {
    "cell_type": "markdown",
    "metadata": {},
    "source": [
     "## Define Image Labels"
    ]
   },
   {
    "cell_type": "code",
    "execution_count": null,
    "metadata": {},
    "outputs": [],
    "source": [
     "labels = os.listdir(train_path)\n",
     "print('Image labels are:', labels)"
    ]
   },
   {
    "cell_type": "markdown",
    "metadata": {},
    "source": [
     "## Load Image Shape"
    ]
   },
   {
    "cell_type": "code",
    "execution_count": null,
    "metadata": {},
    "outputs": [],
    "source": [
     "import joblib\n",
     "version = 'v1'\n",
     "image_shape = joblib.load(filename=f\"outputs/{version}/image_shape.pkl\")\n",
     "image_shape"
    ]
   },
   {
    "cell_type": "markdown",
    "metadata": {},
    "source": [
     "---"
    ]
   },
   {
    "cell_type": "markdown",
    "metadata": {},
    "source": [
     "## Analyze Image Distribution"
    ]
   },
   {
    "cell_type": "markdown",
    "metadata": {},
    "source": [
     "### Count Images in Each Set and Label Category"
    ]
   },
   {
    "cell_type": "code",
    "execution_count": null,
    "metadata": {},
    "outputs": [],
    "source": [
     "import plotly.express as px\n",
     "\n",
     "df_freq = pd.DataFrame([])\n",
     "for folder in ['train', 'test', 'validation']:\n",
     "    for label in labels:\n",
     "        df_freq = df_freq.append(\n",
     "            pd.Series(data={'Set': folder,\n",
     "                            'Label': label,\n",
     "                            'Count': int(len(os.listdir(my_data_dir + '/' + folder + '/' + label)))}\n",
     "                      ),\n",
     "            ignore_index=True\n",
     "        )\n",
     "\n",
     "        print(\n",
     "            f\"* {folder} - {label}: {len(os.listdir(my_data_dir+'/'+ folder + '/' + label))} images\")\n",
     "\n",
     "print(\"\\n\")"
    ]
   }
 ],
 "metadata": {
  "kernelspec": {
   "display_name": "Python (Pyodide)",
   "language": "python",
   "name": "python"
  },
  "language_info": {
   "codemirror_mode": {
    "name": "python",
    "version": 3
   },
   "file_extension": ".py",
   "mimetype": "text/x-python",
   "name": "python",
   "nbconvert_exporter": "python",
   "pygments_lexer": "ipython3",
   "version": "3.8"
  },
  "vscode": {
   "interpreter": {
    "hash": "8b8334dab9339717f727a1deaf837b322d7a41c20d15cc86be99a8e69ceec8ce"
   }
  }
 },
 "nbformat": 4,
 "nbformat_minor": 4
}
