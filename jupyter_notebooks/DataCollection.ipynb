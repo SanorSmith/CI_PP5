{
  "cells": [
    {
      "cell_type": "markdown",
      "metadata": {
        "id": "0aStgWSO0E0E"
      },
      "source": [
        "\"# **Data Collection**\""
      ]
    },
    {
      "cell_type": "markdown",
      "metadata": {
        "id": "1eLEkw5O0ECa"
      },
      "source": [
        "## Objectives\n",
        "\n",
        "* Fetch cherry leaf dataset from Kaggle (or other specified source) containing healthy and powdery mildew images.\n",
        "* Save the collected data as raw data for further processing and analysis.\n",
        "\n",
        "## Inputs\n",
        "\n",
        "* Kaggle API credentials (if the dataset is hosted on Kaggle).\n",
        "* URL or file paths to the cherry leaf dataset.\n",
        "* Access to storage location where raw data will be saved.\n",
        "\n",
        "## Outputs\n",
        "\n",
        "* Raw dataset files saved in a structured directory format.\n",
        "* Metadata file summarizing the dataset information (e.g., number of images per class).\n",
        "* Basic statistics about the dataset (e.g., image dimensions, file size).\n",
        "\n",
        "## Additional Comments\n",
        "\n",
        "* Ensure that all data handling follows NDA guidelines.\n",
        "* Store the raw data in a secure and restricted-access environment to comply with privacy concerns.\n",
        "* If the dataset size is large, consider storing it in a cloud-based service for scalability and accessibility.\n",
        "\n"
      ]
    },
    {
      "cell_type": "markdown",
      "metadata": {
        "id": "9uWZXH9LwoQg"
      },
      "source": [
        "---"
      ]
    },
    {
      "cell_type": "markdown",
      "metadata": {},
      "source": [
        "# Import packages"
      ]
    },
    {
      "cell_type": "code",
      "execution_count": 13,
      "metadata": {},
      "outputs": [
        {
          "name": "stdout",
          "output_type": "stream",
          "text": [
            "Requirement already satisfied: numpy==1.19.2 in /workspaces/CI_PP5/.venv/lib/python3.8/site-packages (from -r /workspaces/CI_PP5/requirements.txt (line 1)) (1.19.2)\n",
            "Requirement already satisfied: pandas==1.1.2 in /workspaces/CI_PP5/.venv/lib/python3.8/site-packages (from -r /workspaces/CI_PP5/requirements.txt (line 2)) (1.1.2)\n",
            "Requirement already satisfied: matplotlib==3.3.1 in /workspaces/CI_PP5/.venv/lib/python3.8/site-packages (from -r /workspaces/CI_PP5/requirements.txt (line 3)) (3.3.1)\n",
            "Requirement already satisfied: seaborn==0.11.0 in /workspaces/CI_PP5/.venv/lib/python3.8/site-packages (from -r /workspaces/CI_PP5/requirements.txt (line 4)) (0.11.0)\n",
            "Requirement already satisfied: plotly==4.12.0 in /workspaces/CI_PP5/.venv/lib/python3.8/site-packages (from -r /workspaces/CI_PP5/requirements.txt (line 5)) (4.12.0)\n",
            "Requirement already satisfied: streamlit==0.85.0 in /workspaces/CI_PP5/.venv/lib/python3.8/site-packages (from -r /workspaces/CI_PP5/requirements.txt (line 7)) (0.85.0)\n",
            "Requirement already satisfied: scikit-learn==0.24.2 in /workspaces/CI_PP5/.venv/lib/python3.8/site-packages (from -r /workspaces/CI_PP5/requirements.txt (line 9)) (0.24.2)\n",
            "Requirement already satisfied: tensorflow-cpu==2.6.0 in /workspaces/CI_PP5/.venv/lib/python3.8/site-packages (from -r /workspaces/CI_PP5/requirements.txt (line 10)) (2.6.0)\n",
            "Requirement already satisfied: keras==2.6.0 in /workspaces/CI_PP5/.venv/lib/python3.8/site-packages (from -r /workspaces/CI_PP5/requirements.txt (line 11)) (2.6.0)\n",
            "Requirement already satisfied: protobuf==3.20 in /workspaces/CI_PP5/.venv/lib/python3.8/site-packages (from -r /workspaces/CI_PP5/requirements.txt (line 12)) (3.20.0)\n",
            "Requirement already satisfied: altair<5 in /workspaces/CI_PP5/.venv/lib/python3.8/site-packages (from -r /workspaces/CI_PP5/requirements.txt (line 13)) (4.2.2)\n",
            "Requirement already satisfied: python-dateutil>=2.7.3 in /workspaces/CI_PP5/.venv/lib/python3.8/site-packages (from pandas==1.1.2->-r /workspaces/CI_PP5/requirements.txt (line 2)) (2.9.0.post0)\n",
            "Requirement already satisfied: pytz>=2017.2 in /workspaces/CI_PP5/.venv/lib/python3.8/site-packages (from pandas==1.1.2->-r /workspaces/CI_PP5/requirements.txt (line 2)) (2024.2)\n",
            "Requirement already satisfied: certifi>=2020.06.20 in /workspaces/CI_PP5/.venv/lib/python3.8/site-packages (from matplotlib==3.3.1->-r /workspaces/CI_PP5/requirements.txt (line 3)) (2024.8.30)\n",
            "Requirement already satisfied: cycler>=0.10 in /workspaces/CI_PP5/.venv/lib/python3.8/site-packages (from matplotlib==3.3.1->-r /workspaces/CI_PP5/requirements.txt (line 3)) (0.12.1)\n",
            "Requirement already satisfied: kiwisolver>=1.0.1 in /workspaces/CI_PP5/.venv/lib/python3.8/site-packages (from matplotlib==3.3.1->-r /workspaces/CI_PP5/requirements.txt (line 3)) (1.4.7)\n",
            "Requirement already satisfied: pillow>=6.2.0 in /workspaces/CI_PP5/.venv/lib/python3.8/site-packages (from matplotlib==3.3.1->-r /workspaces/CI_PP5/requirements.txt (line 3)) (10.4.0)\n",
            "Requirement already satisfied: pyparsing!=2.0.4,!=2.1.2,!=2.1.6,>=2.0.3 in /workspaces/CI_PP5/.venv/lib/python3.8/site-packages (from matplotlib==3.3.1->-r /workspaces/CI_PP5/requirements.txt (line 3)) (3.1.4)\n",
            "Requirement already satisfied: scipy>=1.0 in /workspaces/CI_PP5/.venv/lib/python3.8/site-packages (from seaborn==0.11.0->-r /workspaces/CI_PP5/requirements.txt (line 4)) (1.9.3)\n",
            "Requirement already satisfied: retrying>=1.3.3 in /workspaces/CI_PP5/.venv/lib/python3.8/site-packages (from plotly==4.12.0->-r /workspaces/CI_PP5/requirements.txt (line 5)) (1.3.4)\n",
            "Requirement already satisfied: six in /workspaces/CI_PP5/.venv/lib/python3.8/site-packages (from plotly==4.12.0->-r /workspaces/CI_PP5/requirements.txt (line 5)) (1.15.0)\n",
            "Requirement already satisfied: astor in /workspaces/CI_PP5/.venv/lib/python3.8/site-packages (from streamlit==0.85.0->-r /workspaces/CI_PP5/requirements.txt (line 7)) (0.8.1)\n",
            "Requirement already satisfied: attrs in /workspaces/CI_PP5/.venv/lib/python3.8/site-packages (from streamlit==0.85.0->-r /workspaces/CI_PP5/requirements.txt (line 7)) (24.2.0)\n",
            "Requirement already satisfied: base58 in /workspaces/CI_PP5/.venv/lib/python3.8/site-packages (from streamlit==0.85.0->-r /workspaces/CI_PP5/requirements.txt (line 7)) (2.1.1)\n",
            "Requirement already satisfied: blinker in /workspaces/CI_PP5/.venv/lib/python3.8/site-packages (from streamlit==0.85.0->-r /workspaces/CI_PP5/requirements.txt (line 7)) (1.8.2)\n",
            "Requirement already satisfied: cachetools>=4.0 in /workspaces/CI_PP5/.venv/lib/python3.8/site-packages (from streamlit==0.85.0->-r /workspaces/CI_PP5/requirements.txt (line 7)) (5.5.0)\n",
            "Requirement already satisfied: click<8.0,>=7.0 in /workspaces/CI_PP5/.venv/lib/python3.8/site-packages (from streamlit==0.85.0->-r /workspaces/CI_PP5/requirements.txt (line 7)) (7.1.2)\n",
            "Requirement already satisfied: packaging in /workspaces/CI_PP5/.venv/lib/python3.8/site-packages (from streamlit==0.85.0->-r /workspaces/CI_PP5/requirements.txt (line 7)) (24.1)\n",
            "Requirement already satisfied: pyarrow in /workspaces/CI_PP5/.venv/lib/python3.8/site-packages (from streamlit==0.85.0->-r /workspaces/CI_PP5/requirements.txt (line 7)) (17.0.0)\n",
            "Requirement already satisfied: pydeck>=0.1.dev5 in /workspaces/CI_PP5/.venv/lib/python3.8/site-packages (from streamlit==0.85.0->-r /workspaces/CI_PP5/requirements.txt (line 7)) (0.9.1)\n",
            "Requirement already satisfied: requests in /workspaces/CI_PP5/.venv/lib/python3.8/site-packages (from streamlit==0.85.0->-r /workspaces/CI_PP5/requirements.txt (line 7)) (2.32.3)\n",
            "Requirement already satisfied: toml in /workspaces/CI_PP5/.venv/lib/python3.8/site-packages (from streamlit==0.85.0->-r /workspaces/CI_PP5/requirements.txt (line 7)) (0.10.2)\n",
            "Requirement already satisfied: tornado>=5.0 in /workspaces/CI_PP5/.venv/lib/python3.8/site-packages (from streamlit==0.85.0->-r /workspaces/CI_PP5/requirements.txt (line 7)) (6.4.1)\n",
            "Requirement already satisfied: tzlocal in /workspaces/CI_PP5/.venv/lib/python3.8/site-packages (from streamlit==0.85.0->-r /workspaces/CI_PP5/requirements.txt (line 7)) (5.2)\n",
            "Requirement already satisfied: validators in /workspaces/CI_PP5/.venv/lib/python3.8/site-packages (from streamlit==0.85.0->-r /workspaces/CI_PP5/requirements.txt (line 7)) (0.34.0)\n",
            "Requirement already satisfied: gitpython in /workspaces/CI_PP5/.venv/lib/python3.8/site-packages (from streamlit==0.85.0->-r /workspaces/CI_PP5/requirements.txt (line 7)) (3.1.43)\n",
            "Requirement already satisfied: watchdog in /workspaces/CI_PP5/.venv/lib/python3.8/site-packages (from streamlit==0.85.0->-r /workspaces/CI_PP5/requirements.txt (line 7)) (4.0.2)\n",
            "Requirement already satisfied: joblib>=0.11 in /workspaces/CI_PP5/.venv/lib/python3.8/site-packages (from scikit-learn==0.24.2->-r /workspaces/CI_PP5/requirements.txt (line 9)) (1.4.2)\n",
            "Requirement already satisfied: threadpoolctl>=2.0.0 in /workspaces/CI_PP5/.venv/lib/python3.8/site-packages (from scikit-learn==0.24.2->-r /workspaces/CI_PP5/requirements.txt (line 9)) (3.5.0)\n",
            "Requirement already satisfied: absl-py~=0.10 in /workspaces/CI_PP5/.venv/lib/python3.8/site-packages (from tensorflow-cpu==2.6.0->-r /workspaces/CI_PP5/requirements.txt (line 10)) (0.15.0)\n",
            "Requirement already satisfied: astunparse~=1.6.3 in /workspaces/CI_PP5/.venv/lib/python3.8/site-packages (from tensorflow-cpu==2.6.0->-r /workspaces/CI_PP5/requirements.txt (line 10)) (1.6.3)\n",
            "Requirement already satisfied: clang~=5.0 in /workspaces/CI_PP5/.venv/lib/python3.8/site-packages (from tensorflow-cpu==2.6.0->-r /workspaces/CI_PP5/requirements.txt (line 10)) (5.0)\n",
            "Requirement already satisfied: flatbuffers~=1.12.0 in /workspaces/CI_PP5/.venv/lib/python3.8/site-packages (from tensorflow-cpu==2.6.0->-r /workspaces/CI_PP5/requirements.txt (line 10)) (1.12)\n",
            "Requirement already satisfied: google-pasta~=0.2 in /workspaces/CI_PP5/.venv/lib/python3.8/site-packages (from tensorflow-cpu==2.6.0->-r /workspaces/CI_PP5/requirements.txt (line 10)) (0.2.0)\n",
            "Requirement already satisfied: h5py~=3.1.0 in /workspaces/CI_PP5/.venv/lib/python3.8/site-packages (from tensorflow-cpu==2.6.0->-r /workspaces/CI_PP5/requirements.txt (line 10)) (3.1.0)\n",
            "Requirement already satisfied: keras-preprocessing~=1.1.2 in /workspaces/CI_PP5/.venv/lib/python3.8/site-packages (from tensorflow-cpu==2.6.0->-r /workspaces/CI_PP5/requirements.txt (line 10)) (1.1.2)\n",
            "Requirement already satisfied: opt-einsum~=3.3.0 in /workspaces/CI_PP5/.venv/lib/python3.8/site-packages (from tensorflow-cpu==2.6.0->-r /workspaces/CI_PP5/requirements.txt (line 10)) (3.3.0)\n",
            "Requirement already satisfied: termcolor~=1.1.0 in /workspaces/CI_PP5/.venv/lib/python3.8/site-packages (from tensorflow-cpu==2.6.0->-r /workspaces/CI_PP5/requirements.txt (line 10)) (1.1.0)\n",
            "Requirement already satisfied: typing-extensions~=3.7.4 in /workspaces/CI_PP5/.venv/lib/python3.8/site-packages (from tensorflow-cpu==2.6.0->-r /workspaces/CI_PP5/requirements.txt (line 10)) (3.7.4.3)\n",
            "Requirement already satisfied: wheel~=0.35 in /workspaces/CI_PP5/.venv/lib/python3.8/site-packages (from tensorflow-cpu==2.6.0->-r /workspaces/CI_PP5/requirements.txt (line 10)) (0.44.0)\n",
            "Requirement already satisfied: wrapt~=1.12.1 in /workspaces/CI_PP5/.venv/lib/python3.8/site-packages (from tensorflow-cpu==2.6.0->-r /workspaces/CI_PP5/requirements.txt (line 10)) (1.12.1)\n",
            "Requirement already satisfied: gast==0.4.0 in /workspaces/CI_PP5/.venv/lib/python3.8/site-packages (from tensorflow-cpu==2.6.0->-r /workspaces/CI_PP5/requirements.txt (line 10)) (0.4.0)\n",
            "Requirement already satisfied: tensorboard~=2.6 in /workspaces/CI_PP5/.venv/lib/python3.8/site-packages (from tensorflow-cpu==2.6.0->-r /workspaces/CI_PP5/requirements.txt (line 10)) (2.14.0)\n",
            "Requirement already satisfied: tensorflow-estimator~=2.6 in /workspaces/CI_PP5/.venv/lib/python3.8/site-packages (from tensorflow-cpu==2.6.0->-r /workspaces/CI_PP5/requirements.txt (line 10)) (2.15.0)\n",
            "Requirement already satisfied: grpcio<2.0,>=1.37.0 in /workspaces/CI_PP5/.venv/lib/python3.8/site-packages (from tensorflow-cpu==2.6.0->-r /workspaces/CI_PP5/requirements.txt (line 10)) (1.67.0)\n",
            "Requirement already satisfied: entrypoints in /workspaces/CI_PP5/.venv/lib/python3.8/site-packages (from altair<5->-r /workspaces/CI_PP5/requirements.txt (line 13)) (0.4)\n",
            "Requirement already satisfied: jinja2 in /workspaces/CI_PP5/.venv/lib/python3.8/site-packages (from altair<5->-r /workspaces/CI_PP5/requirements.txt (line 13)) (3.1.4)\n",
            "Requirement already satisfied: jsonschema>=3.0 in /workspaces/CI_PP5/.venv/lib/python3.8/site-packages (from altair<5->-r /workspaces/CI_PP5/requirements.txt (line 13)) (4.23.0)\n",
            "Requirement already satisfied: toolz in /workspaces/CI_PP5/.venv/lib/python3.8/site-packages (from altair<5->-r /workspaces/CI_PP5/requirements.txt (line 13)) (1.0.0)\n",
            "Requirement already satisfied: importlib-resources>=1.4.0 in /workspaces/CI_PP5/.venv/lib/python3.8/site-packages (from jsonschema>=3.0->altair<5->-r /workspaces/CI_PP5/requirements.txt (line 13)) (6.4.5)\n",
            "Requirement already satisfied: jsonschema-specifications>=2023.03.6 in /workspaces/CI_PP5/.venv/lib/python3.8/site-packages (from jsonschema>=3.0->altair<5->-r /workspaces/CI_PP5/requirements.txt (line 13)) (2023.12.1)\n",
            "Requirement already satisfied: pkgutil-resolve-name>=1.3.10 in /workspaces/CI_PP5/.venv/lib/python3.8/site-packages (from jsonschema>=3.0->altair<5->-r /workspaces/CI_PP5/requirements.txt (line 13)) (1.3.10)\n",
            "Requirement already satisfied: referencing>=0.28.4 in /workspaces/CI_PP5/.venv/lib/python3.8/site-packages (from jsonschema>=3.0->altair<5->-r /workspaces/CI_PP5/requirements.txt (line 13)) (0.35.1)\n",
            "Requirement already satisfied: rpds-py>=0.7.1 in /workspaces/CI_PP5/.venv/lib/python3.8/site-packages (from jsonschema>=3.0->altair<5->-r /workspaces/CI_PP5/requirements.txt (line 13)) (0.20.0)\n",
            "Requirement already satisfied: MarkupSafe>=2.0 in /workspaces/CI_PP5/.venv/lib/python3.8/site-packages (from jinja2->altair<5->-r /workspaces/CI_PP5/requirements.txt (line 13)) (2.1.5)\n",
            "Requirement already satisfied: google-auth<3,>=1.6.3 in /workspaces/CI_PP5/.venv/lib/python3.8/site-packages (from tensorboard~=2.6->tensorflow-cpu==2.6.0->-r /workspaces/CI_PP5/requirements.txt (line 10)) (2.35.0)\n",
            "Requirement already satisfied: google-auth-oauthlib<1.1,>=0.5 in /workspaces/CI_PP5/.venv/lib/python3.8/site-packages (from tensorboard~=2.6->tensorflow-cpu==2.6.0->-r /workspaces/CI_PP5/requirements.txt (line 10)) (1.0.0)\n",
            "Requirement already satisfied: markdown>=2.6.8 in /workspaces/CI_PP5/.venv/lib/python3.8/site-packages (from tensorboard~=2.6->tensorflow-cpu==2.6.0->-r /workspaces/CI_PP5/requirements.txt (line 10)) (3.7)\n",
            "Requirement already satisfied: setuptools>=41.0.0 in /workspaces/CI_PP5/.venv/lib/python3.8/site-packages (from tensorboard~=2.6->tensorflow-cpu==2.6.0->-r /workspaces/CI_PP5/requirements.txt (line 10)) (65.5.0)\n",
            "Requirement already satisfied: tensorboard-data-server<0.8.0,>=0.7.0 in /workspaces/CI_PP5/.venv/lib/python3.8/site-packages (from tensorboard~=2.6->tensorflow-cpu==2.6.0->-r /workspaces/CI_PP5/requirements.txt (line 10)) (0.7.2)\n",
            "Requirement already satisfied: werkzeug>=1.0.1 in /workspaces/CI_PP5/.venv/lib/python3.8/site-packages (from tensorboard~=2.6->tensorflow-cpu==2.6.0->-r /workspaces/CI_PP5/requirements.txt (line 10)) (3.0.6)\n",
            "Requirement already satisfied: charset-normalizer<4,>=2 in /workspaces/CI_PP5/.venv/lib/python3.8/site-packages (from requests->streamlit==0.85.0->-r /workspaces/CI_PP5/requirements.txt (line 7)) (3.4.0)\n",
            "Requirement already satisfied: idna<4,>=2.5 in /workspaces/CI_PP5/.venv/lib/python3.8/site-packages (from requests->streamlit==0.85.0->-r /workspaces/CI_PP5/requirements.txt (line 7)) (3.10)\n",
            "Requirement already satisfied: urllib3<3,>=1.21.1 in /workspaces/CI_PP5/.venv/lib/python3.8/site-packages (from requests->streamlit==0.85.0->-r /workspaces/CI_PP5/requirements.txt (line 7)) (2.2.3)\n",
            "Requirement already satisfied: gitdb<5,>=4.0.1 in /workspaces/CI_PP5/.venv/lib/python3.8/site-packages (from gitpython->streamlit==0.85.0->-r /workspaces/CI_PP5/requirements.txt (line 7)) (4.0.11)\n",
            "Requirement already satisfied: backports.zoneinfo in /workspaces/CI_PP5/.venv/lib/python3.8/site-packages (from tzlocal->streamlit==0.85.0->-r /workspaces/CI_PP5/requirements.txt (line 7)) (0.2.1)\n",
            "Requirement already satisfied: smmap<6,>=3.0.1 in /workspaces/CI_PP5/.venv/lib/python3.8/site-packages (from gitdb<5,>=4.0.1->gitpython->streamlit==0.85.0->-r /workspaces/CI_PP5/requirements.txt (line 7)) (5.0.1)\n",
            "Requirement already satisfied: pyasn1-modules>=0.2.1 in /workspaces/CI_PP5/.venv/lib/python3.8/site-packages (from google-auth<3,>=1.6.3->tensorboard~=2.6->tensorflow-cpu==2.6.0->-r /workspaces/CI_PP5/requirements.txt (line 10)) (0.4.1)\n",
            "Requirement already satisfied: rsa<5,>=3.1.4 in /workspaces/CI_PP5/.venv/lib/python3.8/site-packages (from google-auth<3,>=1.6.3->tensorboard~=2.6->tensorflow-cpu==2.6.0->-r /workspaces/CI_PP5/requirements.txt (line 10)) (4.9)\n",
            "Requirement already satisfied: requests-oauthlib>=0.7.0 in /workspaces/CI_PP5/.venv/lib/python3.8/site-packages (from google-auth-oauthlib<1.1,>=0.5->tensorboard~=2.6->tensorflow-cpu==2.6.0->-r /workspaces/CI_PP5/requirements.txt (line 10)) (2.0.0)\n",
            "Requirement already satisfied: zipp>=3.1.0 in /workspaces/CI_PP5/.venv/lib/python3.8/site-packages (from importlib-resources>=1.4.0->jsonschema>=3.0->altair<5->-r /workspaces/CI_PP5/requirements.txt (line 13)) (3.20.2)\n",
            "Requirement already satisfied: importlib-metadata>=4.4 in /workspaces/CI_PP5/.venv/lib/python3.8/site-packages (from markdown>=2.6.8->tensorboard~=2.6->tensorflow-cpu==2.6.0->-r /workspaces/CI_PP5/requirements.txt (line 10)) (8.5.0)\n",
            "Requirement already satisfied: pyasn1<0.7.0,>=0.4.6 in /workspaces/CI_PP5/.venv/lib/python3.8/site-packages (from pyasn1-modules>=0.2.1->google-auth<3,>=1.6.3->tensorboard~=2.6->tensorflow-cpu==2.6.0->-r /workspaces/CI_PP5/requirements.txt (line 10)) (0.6.1)\n",
            "Requirement already satisfied: oauthlib>=3.0.0 in /workspaces/CI_PP5/.venv/lib/python3.8/site-packages (from requests-oauthlib>=0.7.0->google-auth-oauthlib<1.1,>=0.5->tensorboard~=2.6->tensorflow-cpu==2.6.0->-r /workspaces/CI_PP5/requirements.txt (line 10)) (3.2.2)\n",
            "Note: you may need to restart the kernel to use updated packages.\n"
          ]
        }
      ],
      "source": [
        "\n",
        "%pip install -r /workspaces/CI_PP5/requirements.txt"
      ]
    },
    {
      "cell_type": "markdown",
      "metadata": {
        "id": "cqP-UeN-z3i2"
      },
      "source": [
        "# Change working directory"
      ]
    },
    {
      "cell_type": "markdown",
      "metadata": {
        "id": "aOGIGS-uz3i2"
      },
      "source": [
        "We need to change the working directory from its current folder to its parent folder\n",
        "* We access the current directory with os.getcwd()"
      ]
    },
    {
      "cell_type": "code",
      "execution_count": 14,
      "metadata": {
        "id": "wZfF_j-Bz3i4",
        "outputId": "66943449-1436-4c3d-85c7-b85f9f78349b"
      },
      "outputs": [
        {
          "data": {
            "text/plain": [
              "'/workspaces/CI_PP5/jupyter_notebooks'"
            ]
          },
          "execution_count": 14,
          "metadata": {},
          "output_type": "execute_result"
        }
      ],
      "source": [
        "import os\n",
        "import numpy\n",
        "current_dir = os.getcwd()\n",
        "current_dir"
      ]
    },
    {
      "cell_type": "markdown",
      "metadata": {
        "id": "9MWW8E7lz3i7"
      },
      "source": [
        "We want to make the parent of the current directory the new current directory\n",
        "* os.chir() defines the new current directory"
      ]
    },
    {
      "cell_type": "code",
      "execution_count": 15,
      "metadata": {
        "id": "TwHsQRWjz3i9",
        "outputId": "86849db3-cd2f-4cc5-ebb8-2d0caafa1a2c"
      },
      "outputs": [
        {
          "name": "stdout",
          "output_type": "stream",
          "text": [
            "You set a new current directory\n"
          ]
        }
      ],
      "source": [
        "os.chdir(os.path.dirname('/workspaces/CI_PP5/'))\n",
        "print(\"You set a new current directory\")"
      ]
    },
    {
      "cell_type": "markdown",
      "metadata": {
        "id": "M_xPk_Ijz3i-"
      },
      "source": [
        "Confirm the new current directory"
      ]
    },
    {
      "cell_type": "code",
      "execution_count": 16,
      "metadata": {
        "id": "vz3S-_kjz3jA",
        "outputId": "00b79ae4-75d0-4a96-d193-ac9ef9847ea2"
      },
      "outputs": [
        {
          "data": {
            "text/plain": [
              "'/workspaces/CI_PP5'"
            ]
          },
          "execution_count": 16,
          "metadata": {},
          "output_type": "execute_result"
        }
      ],
      "source": [
        "current_dir = os.getcwd()\n",
        "current_dir"
      ]
    },
    {
      "cell_type": "markdown",
      "metadata": {},
      "source": [
        "# Install Kaggle"
      ]
    },
    {
      "cell_type": "code",
      "execution_count": 17,
      "metadata": {},
      "outputs": [
        {
          "name": "stdout",
          "output_type": "stream",
          "text": [
            "Requirement already satisfied: kaggle in ./.venv/lib/python3.8/site-packages (1.6.17)\n",
            "Requirement already satisfied: six>=1.10 in ./.venv/lib/python3.8/site-packages (from kaggle) (1.15.0)\n",
            "Requirement already satisfied: certifi>=2023.7.22 in ./.venv/lib/python3.8/site-packages (from kaggle) (2024.8.30)\n",
            "Requirement already satisfied: python-dateutil in ./.venv/lib/python3.8/site-packages (from kaggle) (2.9.0.post0)\n",
            "Requirement already satisfied: requests in ./.venv/lib/python3.8/site-packages (from kaggle) (2.32.3)\n",
            "Requirement already satisfied: tqdm in ./.venv/lib/python3.8/site-packages (from kaggle) (4.66.6)\n",
            "Requirement already satisfied: python-slugify in ./.venv/lib/python3.8/site-packages (from kaggle) (8.0.4)\n",
            "Requirement already satisfied: urllib3 in ./.venv/lib/python3.8/site-packages (from kaggle) (2.2.3)\n",
            "Requirement already satisfied: bleach in ./.venv/lib/python3.8/site-packages (from kaggle) (6.1.0)\n",
            "Requirement already satisfied: webencodings in ./.venv/lib/python3.8/site-packages (from bleach->kaggle) (0.5.1)\n",
            "Requirement already satisfied: text-unidecode>=1.3 in ./.venv/lib/python3.8/site-packages (from python-slugify->kaggle) (1.3)\n",
            "Requirement already satisfied: charset-normalizer<4,>=2 in ./.venv/lib/python3.8/site-packages (from requests->kaggle) (3.4.0)\n",
            "Requirement already satisfied: idna<4,>=2.5 in ./.venv/lib/python3.8/site-packages (from requests->kaggle) (3.10)\n",
            "Note: you may need to restart the kernel to use updated packages.\n"
          ]
        }
      ],
      "source": [
        "# install kaggle package\n",
        "%pip install kaggle"
      ]
    },
    {
      "cell_type": "markdown",
      "metadata": {},
      "source": [
        "---"
      ]
    },
    {
      "cell_type": "markdown",
      "metadata": {},
      "source": [
        "Run the cell below **to change the Kaggle configuration directory to the current working directory and set permissions for the Kaggle authentication JSON**."
      ]
    },
    {
      "cell_type": "code",
      "execution_count": 18,
      "metadata": {},
      "outputs": [],
      "source": [
        "import os\n",
        "os.environ['KAGGLE_CONFIG_DIR'] = os.getcwd()\n",
        "! chmod 600 kaggle.json"
      ]
    },
    {
      "cell_type": "markdown",
      "metadata": {},
      "source": [
        "Get the dataset path from Kaggle"
      ]
    },
    {
      "cell_type": "code",
      "execution_count": 20,
      "metadata": {},
      "outputs": [
        {
          "name": "stdout",
          "output_type": "stream",
          "text": [
            "Dataset URL: https://www.kaggle.com/datasets/codeinstitute/cherry-leaves\n",
            "License(s): unknown\n",
            "Downloading cherry-leaves.zip to inputs\n",
            " 95%|███████████████████████████████████▉  | 52.0M/55.0M [00:02<00:00, 20.0MB/s]\n",
            "100%|██████████████████████████████████████| 55.0M/55.0M [00:02<00:00, 20.1MB/s]\n"
          ]
        }
      ],
      "source": [
        "KaggleDatasetPath = \"codeinstitute/cherry-leaves\"\n",
        "DestinationFolder = \"inputs\"   \n",
        "! kaggle datasets download -d {KaggleDatasetPath} -p {DestinationFolder}"
      ]
    },
    {
      "cell_type": "markdown",
      "metadata": {
        "id": "onuX0tVRNkB8"
      },
      "source": [
        "Unzip the downloaded file, and delete the zip file."
      ]
    },
    {
      "cell_type": "code",
      "execution_count": 21,
      "metadata": {
        "id": "4sJ4a1-RvZi9"
      },
      "outputs": [
        {
          "name": "stdout",
          "output_type": "stream",
          "text": [
            "Extraction complete: Contents extracted to inputs/\n",
            "Removed the zip file: cherry-leaves.zip\n"
          ]
        }
      ],
      "source": [
        "import zipfile\n",
        "import os\n",
        "\n",
        "# Set your destination folder where the zip file is located\n",
        "DestinationFolder = 'inputs/'\n",
        "zip_file_name = 'cherry-leaves.zip'\n",
        "zip_file_path = os.path.join(DestinationFolder, zip_file_name)\n",
        "\n",
        "# Check if the zip file exists before attempting to extract\n",
        "if os.path.exists(zip_file_path):\n",
        "    # Extract the contents of the zip file\n",
        "    with zipfile.ZipFile(zip_file_path, 'r') as zip_ref:\n",
        "        zip_ref.extractall(DestinationFolder)\n",
        "    print(f\"Extraction complete: Contents extracted to {DestinationFolder}\")\n",
        "    \n",
        "    # Optionally remove the zip file after extraction to save space\n",
        "    os.remove(zip_file_path)\n",
        "    print(f\"Removed the zip file: {zip_file_name}\")\n",
        "else:\n",
        "    print(f\"Zip file not found: {zip_file_path}\")"
      ]
    },
    {
      "cell_type": "markdown",
      "metadata": {
        "id": "b5FvU5UvvZi9"
      },
      "source": [
        "---"
      ]
    },
    {
      "cell_type": "markdown",
      "metadata": {
        "id": "xKUJfg59l1TY"
      },
      "source": [
        "# Data Preparation"
      ]
    },
    {
      "cell_type": "markdown",
      "metadata": {
        "id": "wh5i_Q78vZi-"
      },
      "source": [
        "---"
      ]
    },
    {
      "cell_type": "markdown",
      "metadata": {
        "id": "plF6DoUSvZi-"
      },
      "source": [
        "## Data cleaning"
      ]
    },
    {
      "cell_type": "markdown",
      "metadata": {
        "id": "jWTIucPTvZi-"
      },
      "source": [
        "### Check and remove non-image files"
      ]
    },
    {
      "cell_type": "code",
      "execution_count": 24,
      "metadata": {
        "id": "tyxIhl1PvZi-"
      },
      "outputs": [],
      "source": [
        "def remove_non_image_file(my_data_dir):\n",
        "    \"\"\" \n",
        "    The remove_non_image_file function removes all non-image files from each subfolder within a given directory (my_data_dir). It checks file extensions (.png, .jpg, .jpeg) to identify image files, deletes files that don’t match these extensions, and prints the count of image and non-image files in each folder.\n",
        "    \n",
        "    Parameters:-\n",
        "    my_data_dir: str — Path to the directory containing labeled folders with files to be checked and cleaned.\n",
        "    \"\"\"\n",
        "    image_extension = ('.png', '.jpg', '.jpeg')\n",
        "    folders = os.listdir(my_data_dir)\n",
        "    for folder in folders:\n",
        "        files = os.listdir(my_data_dir + '/' + folder)\n",
        "        print(folders)\n",
        "        # print(files)\n",
        "        i = []\n",
        "        j = []\n",
        "        for given_file in files:\n",
        "            if not given_file.lower().endswith(image_extension):\n",
        "                file_location = my_data_dir + '/' + folder + '/' + given_file\n",
        "                os.remove(file_location)  # remove non image file\n",
        "                i.append(1)\n",
        "            else:\n",
        "                j.append(1)\n",
        "                pass\n",
        "        print(f\"Folder: {folder} - has image file\", len(j))\n",
        "        print(f\"Folder: {folder} - has non-image file\", len(i))\n"
      ]
    },
    {
      "cell_type": "code",
      "execution_count": 25,
      "metadata": {
        "id": "r7GhG4y2vZi_"
      },
      "outputs": [
        {
          "name": "stdout",
          "output_type": "stream",
          "text": [
            "['healthy', 'powdery_mildew']\n",
            "Folder: healthy - has image file 2104\n",
            "Folder: healthy - has non-image file 0\n",
            "['healthy', 'powdery_mildew']\n",
            "Folder: powdery_mildew - has image file 2104\n",
            "Folder: powdery_mildew - has non-image file 0\n"
          ]
        }
      ],
      "source": [
        "remove_non_image_file(my_data_dir='inputs/cherry-leaves')"
      ]
    },
    {
      "cell_type": "markdown",
      "metadata": {
        "id": "Zo5HyvEZgUZC"
      },
      "source": [
        "## Split train validation test set"
      ]
    },
    {
      "cell_type": "code",
      "execution_count": 26,
      "metadata": {
        "id": "Qoz1ZU_EgKDu"
      },
      "outputs": [],
      "source": [
        "import os\n",
        "import shutil\n",
        "import random\n",
        "import joblib\n",
        "\n",
        "\n",
        "def split_train_validation_test_images(my_data_dir, train_set_ratio, validation_set_ratio, test_set_ratio):\n",
        "    \"\"\"\n",
        "    The split_train_validation_test_images function splits images into train, validation, and test sets based on specified ratios. It verifies that the sum of these ratios equals 1.0, retrieves the class labels (sub-folder names) from my_data_dir, creates the necessary folders if they don't exist, shuffles the files, and moves them according to the ratios. The original label folders are then removed.\n",
        "    \n",
        "    Parameters:-\n",
        "    my_data_dir: str — Path to the main directory containing labeled image folders (e.g., data/cherry_leaves).\n",
        "    train_set_ratio: float — Proportion of images for the training set.\n",
        "    validation_set_ratio: float — Proportion of images for the validation set.\n",
        "    test_set_ratio: float — Proportion of images for the test set.\n",
        "    \"\"\"\n",
        "    if train_set_ratio + validation_set_ratio + test_set_ratio != 1.0:\n",
        "        print(\"train_set_ratio + validation_set_ratio + test_set_ratio should sum to 1.0\")\n",
        "        return\n",
        "\n",
        "    # gets classes labels\n",
        "    labels = os.listdir(my_data_dir)  # it should get only the folder name\n",
        "    if 'test' in labels:\n",
        "        pass\n",
        "    else:\n",
        "        # create train, test folders with classes labels sub-folder\n",
        "        for folder in ['train', 'validation', 'test']:\n",
        "            for label in labels:\n",
        "                os.makedirs(name=my_data_dir + '/' + folder + '/' + label)\n",
        "\n",
        "        for label in labels:\n",
        "\n",
        "            files = os.listdir(my_data_dir + '/' + label)\n",
        "            random.shuffle(files)\n",
        "\n",
        "            train_set_files_qty = int(len(files) * train_set_ratio)\n",
        "            validation_set_files_qty = int(len(files) * validation_set_ratio)\n",
        "\n",
        "            count = 1\n",
        "            for file_name in files:\n",
        "                if count <= train_set_files_qty:\n",
        "                    # move a given file to the train set\n",
        "                    shutil.move(my_data_dir + '/' + label + '/' + file_name,\n",
        "                                my_data_dir + '/train/' + label + '/' + file_name)\n",
        "\n",
        "                elif count <= (train_set_files_qty + validation_set_files_qty):\n",
        "                    # move a given file to the validation set\n",
        "                    shutil.move(my_data_dir + '/' + label + '/' + file_name,\n",
        "                                my_data_dir + '/validation/' + label + '/' + file_name)\n",
        "\n",
        "                else:\n",
        "                    # move given file to test set\n",
        "                    shutil.move(my_data_dir + '/' + label + '/' + file_name,\n",
        "                                my_data_dir + '/test/' + label + '/' + file_name)\n",
        "\n",
        "                count += 1\n",
        "\n",
        "            os.rmdir(my_data_dir + '/' + label)\n"
      ]
    },
    {
      "cell_type": "markdown",
      "metadata": {
        "id": "74_6OZMWgYIP"
      },
      "source": [
        "Conventionally,\n",
        "* The training set is divided into a 0.70 ratio of data.\n",
        "* The validation set is divided into a 0.10 ratio of data.\n",
        "* The test set is divided into a 0.20 ratio of data."
      ]
    },
    {
      "cell_type": "code",
      "execution_count": 29,
      "metadata": {
        "id": "24e-HbOdgYO1"
      },
      "outputs": [],
      "source": [
        "#The function call split_train_validation_test_images splits images in the inputs/cherryleaves_dataset/cherry-leaves directory into training, validation, and test sets. It allocates 70% of the images to the training set, 10% to the validation set, and 20% to the test set.\n",
        "#Parameters\n",
        "#    my_data_dir: Path to the dataset (\"inputs/cherryleaves_dataset/cherry-leaves\").\n",
        "#    train_set_ratio: Proportion of images for training (0.7).\n",
        "#    validation_set_ratio: Proportion of images for validation (0.1).\n",
        "#    test_set_ratio: Proportion of images for testing (0.2).\n",
        "split_train_validation_test_images(my_data_dir=f\"inputs/cherry-leaves\",\n",
        "                                   train_set_ratio=0.7,\n",
        "                                   validation_set_ratio=0.1,\n",
        "                                   test_set_ratio=0.2\n",
        "                                   )\n"
      ]
    },
    {
      "cell_type": "markdown",
      "metadata": {
        "id": "ctcuyZrmhKYo"
      },
      "source": [
        "---"
      ]
    },
    {
      "cell_type": "markdown",
      "metadata": {
        "id": "3v3qKCNDvZjB"
      },
      "source": [
        "# Congratulations"
      ]
    },
    {
      "cell_type": "markdown",
      "metadata": {
        "id": "_tdAGw4Zwssu"
      },
      "source": [
        "---"
      ]
    }
  ],
  "metadata": {
    "accelerator": "GPU",
    "colab": {
      "name": "Data Practitioner Jupyter Notebook.ipynb",
      "provenance": [],
      "toc_visible": true
    },
    "kernelspec": {
      "display_name": ".venv",
      "language": "python",
      "name": "python3"
    },
    "language_info": {
      "codemirror_mode": {
        "name": "ipython",
        "version": 3
      },
      "file_extension": ".py",
      "mimetype": "text/x-python",
      "name": "python",
      "nbconvert_exporter": "python",
      "pygments_lexer": "ipython3",
      "version": "3.8.10"
    },
    "orig_nbformat": 2
  },
  "nbformat": 4,
  "nbformat_minor": 2
}
